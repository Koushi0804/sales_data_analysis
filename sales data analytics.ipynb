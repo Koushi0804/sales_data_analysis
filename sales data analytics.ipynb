{
 "cells": [
  {
   "cell_type": "code",
   "execution_count": 29,
   "id": "0128961c",
   "metadata": {},
   "outputs": [],
   "source": [
    "#importing libraries\n",
    "import pandas as pd\n",
    "import os\n",
    "import matplotlib.pyplot as plt"
   ]
  },
  {
   "cell_type": "code",
   "execution_count": 30,
   "id": "7a30f929",
   "metadata": {},
   "outputs": [
    {
     "data": {
      "text/plain": [
       "['Sales_April_2019.csv',\n",
       " 'Sales_August_2019.csv',\n",
       " 'Sales_December_2019.csv',\n",
       " 'Sales_February_2019.csv',\n",
       " 'Sales_January_2019.csv',\n",
       " 'Sales_July_2019.csv',\n",
       " 'Sales_June_2019.csv',\n",
       " 'Sales_March_2019.csv',\n",
       " 'Sales_May_2019.csv',\n",
       " 'Sales_November_2019.csv',\n",
       " 'Sales_October_2019.csv',\n",
       " 'Sales_September_2019.csv']"
      ]
     },
     "execution_count": 30,
     "metadata": {},
     "output_type": "execute_result"
    }
   ],
   "source": [
    "#Merging 12 months of sales data into a single file\n",
    "#Create a list of all files in current directory\n",
    "all_files = os.listdir('C:\\sales_data')\n",
    "# Create an empty list to assign csv files\n",
    "csv_files = []\n",
    "\n",
    "# Create a lis of only the csv files in current directory\n",
    "for file in all_files:\n",
    "    if file[-3:] == 'csv':\n",
    "        csv_files.append(file)\n",
    "    else: \n",
    "        pass\n",
    "\n",
    "csv_files"
   ]
  },
  {
   "cell_type": "code",
   "execution_count": 31,
   "id": "b508778a",
   "metadata": {},
   "outputs": [],
   "source": [
    "all_data = pd.concat((pd.read_csv(\"C:/sales_data/\"+f) for f in csv_files))"
   ]
  },
  {
   "cell_type": "code",
   "execution_count": 32,
   "id": "8ecbad5b",
   "metadata": {},
   "outputs": [],
   "source": [
    "#cleaning data\n",
    "all_data =all_data.dropna(how=\"all\")\n",
    "all_data = all_data[all_data['Order Date'].str[0:2]!=\"Or\"]\n",
    "\n",
    "all_data['Quantity Ordered'] = all_data['Quantity Ordered'].astype(int)\n",
    "all_data['Price Each'] = all_data['Price Each'].astype(float)"
   ]
  },
  {
   "cell_type": "code",
   "execution_count": 33,
   "id": "e9f6eb82",
   "metadata": {},
   "outputs": [],
   "source": [
    "#adding month column\n",
    "all_data['Months'] = all_data['Order Date'].str[0:2]\n",
    "all_data['Months']  = all_data['Months'].astype(int)\n",
    "# all_data.head()"
   ]
  },
  {
   "cell_type": "code",
   "execution_count": 34,
   "id": "7a90c6f5",
   "metadata": {},
   "outputs": [],
   "source": [
    "#add a sales column\n",
    "all_data['Sales'] = all_data['Quantity Ordered'] * all_data['Price Each']\n",
    "# all_data.head()"
   ]
  },
  {
   "cell_type": "code",
   "execution_count": 35,
   "id": "7385b417",
   "metadata": {},
   "outputs": [
    {
     "data": {
      "image/png": "[encoded data removed]",
      "text/plain": [
       "<Figure size 864x432 with 1 Axes>"
      ]
     },
     "metadata": {
      "needs_background": "light"
     },
     "output_type": "display_data"
    }
   ],
   "source": [
    "#what was the best month for sales\n",
    "q1=all_data.groupby('Months').sum()\n",
    "plt.figure(figsize=(12,6))\n",
    "months= range(1,13)\n",
    "plt.bar(months,q1['Sales'])\n",
    "plt.ylabel('Sales in USD (lacs)')\n",
    "plt.xlabel('Months')\n",
    "plt.show()"
   ]
  },
  {
   "cell_type": "code",
   "execution_count": 36,
   "id": "6f5cb833",
   "metadata": {},
   "outputs": [
    {
     "data": {
      "text/html": [
       "<div>\n",
       "<style scoped>\n",
       "    .dataframe tbody tr th:only-of-type {\n",
       "        vertical-align: middle;\n",
       "    }\n",
       "\n",
       "    .dataframe tbody tr th {\n",
       "        vertical-align: top;\n",
       "    }\n",
       "\n",
       "    .dataframe thead th {\n",
       "        text-align: right;\n",
       "    }\n",
       "</style>\n",
       "<table border=\"1\" class=\"dataframe\">\n",
       "  <thead>\n",
       "    <tr style=\"text-align: right;\">\n",
       "      <th></th>\n",
       "      <th>Order ID</th>\n",
       "      <th>Product</th>\n",
       "      <th>Quantity Ordered</th>\n",
       "      <th>Price Each</th>\n",
       "      <th>Order Date</th>\n",
       "      <th>Purchase Address</th>\n",
       "      <th>Months</th>\n",
       "      <th>Sales</th>\n",
       "      <th>City</th>\n",
       "    </tr>\n",
       "  </thead>\n",
       "  <tbody>\n",
       "    <tr>\n",
       "      <th>0</th>\n",
       "      <td>176558</td>\n",
       "      <td>USB-C Charging Cable</td>\n",
       "      <td>2</td>\n",
       "      <td>11.95</td>\n",
       "      <td>04/19/19 08:46</td>\n",
       "      <td>917 1st St, Dallas, TX 75001</td>\n",
       "      <td>4</td>\n",
       "      <td>23.90</td>\n",
       "      <td>Dallas (TX)</td>\n",
       "    </tr>\n",
       "    <tr>\n",
       "      <th>2</th>\n",
       "      <td>176559</td>\n",
       "      <td>Bose SoundSport Headphones</td>\n",
       "      <td>1</td>\n",
       "      <td>99.99</td>\n",
       "      <td>04/07/19 22:30</td>\n",
       "      <td>682 Chestnut St, Boston, MA 02215</td>\n",
       "      <td>4</td>\n",
       "      <td>99.99</td>\n",
       "      <td>Boston (MA)</td>\n",
       "    </tr>\n",
       "    <tr>\n",
       "      <th>3</th>\n",
       "      <td>176560</td>\n",
       "      <td>Google Phone</td>\n",
       "      <td>1</td>\n",
       "      <td>600.00</td>\n",
       "      <td>04/12/19 14:38</td>\n",
       "      <td>669 Spruce St, Los Angeles, CA 90001</td>\n",
       "      <td>4</td>\n",
       "      <td>600.00</td>\n",
       "      <td>Los Angeles (CA)</td>\n",
       "    </tr>\n",
       "    <tr>\n",
       "      <th>4</th>\n",
       "      <td>176560</td>\n",
       "      <td>Wired Headphones</td>\n",
       "      <td>1</td>\n",
       "      <td>11.99</td>\n",
       "      <td>04/12/19 14:38</td>\n",
       "      <td>669 Spruce St, Los Angeles, CA 90001</td>\n",
       "      <td>4</td>\n",
       "      <td>11.99</td>\n",
       "      <td>Los Angeles (CA)</td>\n",
       "    </tr>\n",
       "    <tr>\n",
       "      <th>5</th>\n",
       "      <td>176561</td>\n",
       "      <td>Wired Headphones</td>\n",
       "      <td>1</td>\n",
       "      <td>11.99</td>\n",
       "      <td>04/30/19 09:27</td>\n",
       "      <td>333 8th St, Los Angeles, CA 90001</td>\n",
       "      <td>4</td>\n",
       "      <td>11.99</td>\n",
       "      <td>Los Angeles (CA)</td>\n",
       "    </tr>\n",
       "  </tbody>\n",
       "</table>\n",
       "</div>"
      ],
      "text/plain": [
       "  Order ID                     Product  Quantity Ordered  Price Each  \\\n",
       "0   176558        USB-C Charging Cable                 2       11.95   \n",
       "2   176559  Bose SoundSport Headphones                 1       99.99   \n",
       "3   176560                Google Phone                 1      600.00   \n",
       "4   176560            Wired Headphones                 1       11.99   \n",
       "5   176561            Wired Headphones                 1       11.99   \n",
       "\n",
       "       Order Date                      Purchase Address  Months   Sales  \\\n",
       "0  04/19/19 08:46          917 1st St, Dallas, TX 75001       4   23.90   \n",
       "2  04/07/19 22:30     682 Chestnut St, Boston, MA 02215       4   99.99   \n",
       "3  04/12/19 14:38  669 Spruce St, Los Angeles, CA 90001       4  600.00   \n",
       "4  04/12/19 14:38  669 Spruce St, Los Angeles, CA 90001       4   11.99   \n",
       "5  04/30/19 09:27     333 8th St, Los Angeles, CA 90001       4   11.99   \n",
       "\n",
       "               City  \n",
       "0       Dallas (TX)  \n",
       "2       Boston (MA)  \n",
       "3  Los Angeles (CA)  \n",
       "4  Los Angeles (CA)  \n",
       "5  Los Angeles (CA)  "
      ]
     },
     "execution_count": 36,
     "metadata": {},
     "output_type": "execute_result"
    }
   ],
   "source": [
    "#what city sold the most product\n",
    "def get_city(address):\n",
    "    return address.split(\",\")[1].strip(\" \")\n",
    "\n",
    "def get_state(address):\n",
    "    return address.split(\",\")[2].split(\" \")[1]\n",
    "\n",
    "all_data['City'] = all_data['Purchase Address'].apply(lambda x: get_city(x) + ' (' + get_state(x) + ')')\n",
    "all_data.head()"
   ]
  },
  {
   "cell_type": "code",
   "execution_count": 37,
   "id": "e1aa86d3",
   "metadata": {},
   "outputs": [
    {
     "data": {
      "image/png": "[encoded data removed]",
      "text/plain": [
       "<Figure size 864x432 with 1 Axes>"
      ]
     },
     "metadata": {
      "needs_background": "light"
     },
     "output_type": "display_data"
    }
   ],
   "source": [
    "q2=all_data.groupby('City').sum()\n",
    "plt.figure(figsize=(12,6))\n",
    "cities = all_data['City'].unique()\n",
    "plt.bar(cities,q2['Sales'])\n",
    "plt.xticks(rotation= 90)\n",
    "plt.ylabel('Sales in USD (lacs)')\n",
    "plt.xlabel('Cities')\n",
    "plt.show()"
   ]
  },
  {
   "cell_type": "code",
   "execution_count": 38,
   "id": "13791bd7",
   "metadata": {},
   "outputs": [
    {
     "data": {
      "text/html": [
       "<div>\n",
       "<style scoped>\n",
       "    .dataframe tbody tr th:only-of-type {\n",
       "        vertical-align: middle;\n",
       "    }\n",
       "\n",
       "    .dataframe tbody tr th {\n",
       "        vertical-align: top;\n",
       "    }\n",
       "\n",
       "    .dataframe thead th {\n",
       "        text-align: right;\n",
       "    }\n",
       "</style>\n",
       "<table border=\"1\" class=\"dataframe\">\n",
       "  <thead>\n",
       "    <tr style=\"text-align: right;\">\n",
       "      <th></th>\n",
       "      <th>Order ID</th>\n",
       "      <th>Product</th>\n",
       "      <th>Quantity Ordered</th>\n",
       "      <th>Price Each</th>\n",
       "      <th>Order Date</th>\n",
       "      <th>Purchase Address</th>\n",
       "      <th>Months</th>\n",
       "      <th>Sales</th>\n",
       "      <th>City</th>\n",
       "      <th>Hour</th>\n",
       "      <th>Minute</th>\n",
       "      <th>Count</th>\n",
       "    </tr>\n",
       "  </thead>\n",
       "  <tbody>\n",
       "    <tr>\n",
       "      <th>0</th>\n",
       "      <td>176558</td>\n",
       "      <td>USB-C Charging Cable</td>\n",
       "      <td>2</td>\n",
       "      <td>11.95</td>\n",
       "      <td>04/19/19 08:46</td>\n",
       "      <td>917 1st St, Dallas, TX 75001</td>\n",
       "      <td>4</td>\n",
       "      <td>23.90</td>\n",
       "      <td>Dallas (TX)</td>\n",
       "      <td>8</td>\n",
       "      <td>46</td>\n",
       "      <td>1</td>\n",
       "    </tr>\n",
       "    <tr>\n",
       "      <th>2</th>\n",
       "      <td>176559</td>\n",
       "      <td>Bose SoundSport Headphones</td>\n",
       "      <td>1</td>\n",
       "      <td>99.99</td>\n",
       "      <td>04/07/19 22:30</td>\n",
       "      <td>682 Chestnut St, Boston, MA 02215</td>\n",
       "      <td>4</td>\n",
       "      <td>99.99</td>\n",
       "      <td>Boston (MA)</td>\n",
       "      <td>22</td>\n",
       "      <td>30</td>\n",
       "      <td>1</td>\n",
       "    </tr>\n",
       "    <tr>\n",
       "      <th>3</th>\n",
       "      <td>176560</td>\n",
       "      <td>Google Phone</td>\n",
       "      <td>1</td>\n",
       "      <td>600.00</td>\n",
       "      <td>04/12/19 14:38</td>\n",
       "      <td>669 Spruce St, Los Angeles, CA 90001</td>\n",
       "      <td>4</td>\n",
       "      <td>600.00</td>\n",
       "      <td>Los Angeles (CA)</td>\n",
       "      <td>14</td>\n",
       "      <td>38</td>\n",
       "      <td>1</td>\n",
       "    </tr>\n",
       "    <tr>\n",
       "      <th>4</th>\n",
       "      <td>176560</td>\n",
       "      <td>Wired Headphones</td>\n",
       "      <td>1</td>\n",
       "      <td>11.99</td>\n",
       "      <td>04/12/19 14:38</td>\n",
       "      <td>669 Spruce St, Los Angeles, CA 90001</td>\n",
       "      <td>4</td>\n",
       "      <td>11.99</td>\n",
       "      <td>Los Angeles (CA)</td>\n",
       "      <td>14</td>\n",
       "      <td>38</td>\n",
       "      <td>1</td>\n",
       "    </tr>\n",
       "    <tr>\n",
       "      <th>5</th>\n",
       "      <td>176561</td>\n",
       "      <td>Wired Headphones</td>\n",
       "      <td>1</td>\n",
       "      <td>11.99</td>\n",
       "      <td>04/30/19 09:27</td>\n",
       "      <td>333 8th St, Los Angeles, CA 90001</td>\n",
       "      <td>4</td>\n",
       "      <td>11.99</td>\n",
       "      <td>Los Angeles (CA)</td>\n",
       "      <td>9</td>\n",
       "      <td>27</td>\n",
       "      <td>1</td>\n",
       "    </tr>\n",
       "  </tbody>\n",
       "</table>\n",
       "</div>"
      ],
      "text/plain": [
       "  Order ID                     Product  Quantity Ordered  Price Each  \\\n",
       "0   176558        USB-C Charging Cable                 2       11.95   \n",
       "2   176559  Bose SoundSport Headphones                 1       99.99   \n",
       "3   176560                Google Phone                 1      600.00   \n",
       "4   176560            Wired Headphones                 1       11.99   \n",
       "5   176561            Wired Headphones                 1       11.99   \n",
       "\n",
       "       Order Date                      Purchase Address  Months   Sales  \\\n",
       "0  04/19/19 08:46          917 1st St, Dallas, TX 75001       4   23.90   \n",
       "2  04/07/19 22:30     682 Chestnut St, Boston, MA 02215       4   99.99   \n",
       "3  04/12/19 14:38  669 Spruce St, Los Angeles, CA 90001       4  600.00   \n",
       "4  04/12/19 14:38  669 Spruce St, Los Angeles, CA 90001       4   11.99   \n",
       "5  04/30/19 09:27     333 8th St, Los Angeles, CA 90001       4   11.99   \n",
       "\n",
       "               City  Hour  Minute  Count  \n",
       "0       Dallas (TX)     8      46      1  \n",
       "2       Boston (MA)    22      30      1  \n",
       "3  Los Angeles (CA)    14      38      1  \n",
       "4  Los Angeles (CA)    14      38      1  \n",
       "5  Los Angeles (CA)     9      27      1  "
      ]
     },
     "execution_count": 38,
     "metadata": {},
     "output_type": "execute_result"
    }
   ],
   "source": [
    "#what time should we display advertisements to maximize the likelihood of customers buying product?\n",
    "#add a column- hour\n",
    "all_data['Hour'] = pd.to_datetime(all_data['Order Date']).dt.hour\n",
    "all_data['Minute'] = pd.to_datetime(all_data['Order Date']).dt.minute\n",
    "all_data['Count'] = 1\n",
    "all_data.head()\n",
    "#this step is a bit time consuming(26s)"
   ]
  },
  {
   "cell_type": "code",
   "execution_count": 39,
   "id": "707ab66c",
   "metadata": {},
   "outputs": [
    {
     "data": {
      "image/png": "[encoded data removed]",
      "text/plain": [
       "<Figure size 864x432 with 1 Axes>"
      ]
     },
     "metadata": {
      "needs_background": "light"
     },
     "output_type": "display_data"
    }
   ],
   "source": [
    "#all_data['Order Date'] = pd.to_datetime(all_data['Order Date'], format='%m/%d/%y %H:%M')\n",
    "hours = [hour for hour, df in all_data.groupby('Hour')]\n",
    "plt.figure(figsize=(12,6))\n",
    "plt.plot(hours,all_data.groupby('Hour').count(),marker='o')\n",
    "plt.xlabel('Hour')\n",
    "plt.ylabel('Number of orders')\n",
    "plt.grid()\n",
    "plt.show()"
   ]
  },
  {
   "cell_type": "code",
   "execution_count": 40,
   "id": "85a926c0",
   "metadata": {},
   "outputs": [],
   "source": [
    "#what products are most oftern sold together\n",
    "# https://stackoverflow.com/questions/43348194/pandas-select-rows-if-id-appear-several-time\n",
    "df = all_data[all_data['Order ID'].duplicated(keep=False)]"
   ]
  },
  {
   "cell_type": "code",
   "execution_count": 41,
   "id": "1ac0829d",
   "metadata": {},
   "outputs": [
    {
     "name": "stderr",
     "output_type": "stream",
     "text": [
      "<ipython-input-41-b020274c1dea>:2: SettingWithCopyWarning: \n",
      "A value is trying to be set on a copy of a slice from a DataFrame.\n",
      "Try using .loc[row_indexer,col_indexer] = value instead\n",
      "\n",
      "See the caveats in the documentation: https://pandas.pydata.org/pandas-docs/stable/user_guide/indexing.html#returning-a-view-versus-a-copy\n",
      "  df['Grouped'] = df.groupby('Order ID')['Product'].transform(lambda x: ','.join(x))\n"
     ]
    },
    {
     "data": {
      "text/html": [
       "<div>\n",
       "<style scoped>\n",
       "    .dataframe tbody tr th:only-of-type {\n",
       "        vertical-align: middle;\n",
       "    }\n",
       "\n",
       "    .dataframe tbody tr th {\n",
       "        vertical-align: top;\n",
       "    }\n",
       "\n",
       "    .dataframe thead th {\n",
       "        text-align: right;\n",
       "    }\n",
       "</style>\n",
       "<table border=\"1\" class=\"dataframe\">\n",
       "  <thead>\n",
       "    <tr style=\"text-align: right;\">\n",
       "      <th></th>\n",
       "      <th>Order ID</th>\n",
       "      <th>Grouped</th>\n",
       "    </tr>\n",
       "  </thead>\n",
       "  <tbody>\n",
       "    <tr>\n",
       "      <th>3</th>\n",
       "      <td>176560</td>\n",
       "      <td>Google Phone,Wired Headphones</td>\n",
       "    </tr>\n",
       "    <tr>\n",
       "      <th>18</th>\n",
       "      <td>176574</td>\n",
       "      <td>Google Phone,USB-C Charging Cable</td>\n",
       "    </tr>\n",
       "    <tr>\n",
       "      <th>30</th>\n",
       "      <td>176585</td>\n",
       "      <td>Bose SoundSport Headphones,Bose SoundSport Hea...</td>\n",
       "    </tr>\n",
       "    <tr>\n",
       "      <th>32</th>\n",
       "      <td>176586</td>\n",
       "      <td>AAA Batteries (4-pack),Google Phone</td>\n",
       "    </tr>\n",
       "    <tr>\n",
       "      <th>119</th>\n",
       "      <td>176672</td>\n",
       "      <td>Lightning Charging Cable,USB-C Charging Cable</td>\n",
       "    </tr>\n",
       "  </tbody>\n",
       "</table>\n",
       "</div>"
      ],
      "text/plain": [
       "    Order ID                                            Grouped\n",
       "3     176560                      Google Phone,Wired Headphones\n",
       "18    176574                  Google Phone,USB-C Charging Cable\n",
       "30    176585  Bose SoundSport Headphones,Bose SoundSport Hea...\n",
       "32    176586                AAA Batteries (4-pack),Google Phone\n",
       "119   176672      Lightning Charging Cable,USB-C Charging Cable"
      ]
     },
     "execution_count": 41,
     "metadata": {},
     "output_type": "execute_result"
    }
   ],
   "source": [
    "#Referenced: https://stackoverflow.com/questions/27298178/concatenate-strings-from-several-rows-using-pandas-groupby\n",
    "df['Grouped'] = df.groupby('Order ID')['Product'].transform(lambda x: ','.join(x))\n",
    "df2 = df[['Order ID', 'Grouped']].drop_duplicates()\n",
    "df2.head()"
   ]
  },
  {
   "cell_type": "code",
   "execution_count": 42,
   "id": "ca1c369d",
   "metadata": {},
   "outputs": [
    {
     "name": "stdout",
     "output_type": "stream",
     "text": [
      "('iPhone', 'Lightning Charging Cable') 1005\n",
      "('Google Phone', 'USB-C Charging Cable') 987\n",
      "('iPhone', 'Wired Headphones') 447\n",
      "('Google Phone', 'Wired Headphones') 414\n",
      "('Vareebadd Phone', 'USB-C Charging Cable') 361\n",
      "('iPhone', 'Apple Airpods Headphones') 360\n",
      "('Google Phone', 'Bose SoundSport Headphones') 220\n",
      "('USB-C Charging Cable', 'Wired Headphones') 160\n",
      "('Vareebadd Phone', 'Wired Headphones') 143\n",
      "('Lightning Charging Cable', 'Wired Headphones') 92\n"
     ]
    }
   ],
   "source": [
    "#https://stackoverflow.com/questions/52195887/counting-unique-pairs-of-numbers-into-a-python-dictionary\n",
    "from itertools import combinations\n",
    "from collections import Counter\n",
    "\n",
    "count = Counter()\n",
    "\n",
    "for row in df2['Grouped']:\n",
    "    row_list = row.split(',')\n",
    "    count.update(Counter(combinations(row_list, 2)))\n",
    "\n",
    "for key,value in count.most_common(10):\n",
    "    print(key, value)"
   ]
  },
  {
   "cell_type": "code",
   "execution_count": 43,
   "id": "517633d8",
   "metadata": {},
   "outputs": [
    {
     "name": "stdout",
     "output_type": "stream",
     "text": [
      "('Google Phone', 'USB-C Charging Cable', 'Wired Headphones') 87\n",
      "('iPhone', 'Lightning Charging Cable', 'Wired Headphones') 62\n",
      "('iPhone', 'Lightning Charging Cable', 'Apple Airpods Headphones') 47\n",
      "('Google Phone', 'USB-C Charging Cable', 'Bose SoundSport Headphones') 35\n",
      "('Vareebadd Phone', 'USB-C Charging Cable', 'Wired Headphones') 33\n",
      "('iPhone', 'Apple Airpods Headphones', 'Wired Headphones') 27\n",
      "('Google Phone', 'Bose SoundSport Headphones', 'Wired Headphones') 24\n",
      "('Vareebadd Phone', 'USB-C Charging Cable', 'Bose SoundSport Headphones') 16\n",
      "('USB-C Charging Cable', 'Bose SoundSport Headphones', 'Wired Headphones') 5\n",
      "('Vareebadd Phone', 'Bose SoundSport Headphones', 'Wired Headphones') 5\n"
     ]
    }
   ],
   "source": [
    "count = Counter()\n",
    "\n",
    "for row in df2['Grouped']:\n",
    "    row_list = row.split(',')\n",
    "    count.update(Counter(combinations(row_list, 3)))\n",
    "\n",
    "for key,value in count.most_common(10):\n",
    "    print(key, value)"
   ]
  },
  {
   "cell_type": "code",
   "execution_count": 44,
   "id": "8f8c39f6",
   "metadata": {},
   "outputs": [
    {
     "data": {
      "image/png": "[encoded data removed]",
      "text/plain": [
       "<Figure size 864x432 with 1 Axes>"
      ]
     },
     "metadata": {
      "needs_background": "light"
     },
     "output_type": "display_data"
    }
   ],
   "source": [
    "#What product sold the most? Why do you think it sold the most?\n",
    "product_group = all_data.groupby('Product')\n",
    "quantity_ordered = product_group.sum()['Quantity Ordered']\n",
    "# product_group.sum()\n",
    "products = [product for product, df in product_group]\n",
    "plt.figure(figsize=(12,6))\n",
    "plt.bar(products,quantity_ordered)\n",
    "plt.xticks(products, rotation='vertical',size='8')\n",
    "plt.xlabel('Products')\n",
    "plt.ylabel('Quantity Ordered')\n",
    "plt.show()"
   ]
  },
  {
   "cell_type": "code",
   "execution_count": 45,
   "id": "d901c4b0",
   "metadata": {},
   "outputs": [
    {
     "name": "stderr",
     "output_type": "stream",
     "text": [
      "<ipython-input-45-c019a01df8ab>:14: UserWarning: FixedFormatter should only be used together with FixedLocator\n",
      "  ax1.set_xticklabels(products, rotation='vertical', size=8)\n",
      "<ipython-input-45-c019a01df8ab>:15: UserWarning: Matplotlib is currently using module://ipykernel.pylab.backend_inline, which is a non-GUI backend, so cannot show the figure.\n",
      "  fig.show()\n"
     ]
    },
    {
     "data": {
      "image/png": "[encoded data removed]",
      "text/plain": [
       "<Figure size 432x288 with 2 Axes>"
      ]
     },
     "metadata": {
      "needs_background": "light"
     },
     "output_type": "display_data"
    }
   ],
   "source": [
    "# Referenced: https://stackoverflow.com/questions/14762181/adding-a-y-axis-label-to-secondary-y-axis-in-matplotlib\n",
    "\n",
    "prices = all_data.groupby('Product').mean()['Price Each']\n",
    "\n",
    "fig, ax1 = plt.subplots()\n",
    "\n",
    "ax2 = ax1.twinx()\n",
    "ax1.bar(products, quantity_ordered, color='g')\n",
    "ax2.plot(products, prices, color='b')\n",
    "\n",
    "ax1.set_xlabel('Product Name')\n",
    "ax1.set_ylabel('Quantity Ordered', color='g')\n",
    "ax2.set_ylabel('Price ($)', color='b')\n",
    "ax1.set_xticklabels(products, rotation='vertical', size=8)\n",
    "fig.show()"
   ]
  },
  {
   "cell_type": "code",
   "execution_count": 46,
   "id": "494e1900",
   "metadata": {},
   "outputs": [
    {
     "data": {
      "text/plain": [
       "City\n",
       "San Francisco (CA)    896779.93\n",
       "Los Angeles (CA)      557713.16\n",
       "New York City (NY)    510436.35\n",
       "Boston (MA)           394961.30\n",
       "Atlanta (GA)          319432.46\n",
       "Name: Sales, dtype: float64"
      ]
     },
     "execution_count": 46,
     "metadata": {},
     "output_type": "execute_result"
    }
   ],
   "source": [
    "city_sales=df.groupby('City')['Sales'].sum().nlargest(5)\n",
    "city_sales"
   ]
  },
  {
   "cell_type": "code",
   "execution_count": 47,
   "id": "f9132a47",
   "metadata": {},
   "outputs": [
    {
     "data": {
      "text/plain": [
       "City\n",
       "San Francisco (CA)    896779.93\n",
       "Los Angeles (CA)      557713.16\n",
       "New York City (NY)    510436.35\n",
       "Boston (MA)           394961.30\n",
       "Atlanta (GA)          319432.46\n",
       "Name: Sales, dtype: float64"
      ]
     },
     "execution_count": 47,
     "metadata": {},
     "output_type": "execute_result"
    }
   ],
   "source": [
    "city_sales=df.groupby('City')['Sales'].sum().nlargest(5)\n",
    "city_sales"
   ]
  },
  {
   "cell_type": "code",
   "execution_count": 48,
   "id": "1813532a",
   "metadata": {},
   "outputs": [
    {
     "data": {
      "text/html": [
       "<div>\n",
       "<style scoped>\n",
       "    .dataframe tbody tr th:only-of-type {\n",
       "        vertical-align: middle;\n",
       "    }\n",
       "\n",
       "    .dataframe tbody tr th {\n",
       "        vertical-align: top;\n",
       "    }\n",
       "\n",
       "    .dataframe thead th {\n",
       "        text-align: right;\n",
       "    }\n",
       "</style>\n",
       "<table border=\"1\" class=\"dataframe\">\n",
       "  <thead>\n",
       "    <tr style=\"text-align: right;\">\n",
       "      <th></th>\n",
       "      <th>Quantity Ordered</th>\n",
       "      <th>Price Each</th>\n",
       "      <th>Months</th>\n",
       "      <th>Sales</th>\n",
       "      <th>Hour</th>\n",
       "      <th>Minute</th>\n",
       "      <th>Count</th>\n",
       "    </tr>\n",
       "    <tr>\n",
       "      <th>City</th>\n",
       "      <th></th>\n",
       "      <th></th>\n",
       "      <th></th>\n",
       "      <th></th>\n",
       "      <th></th>\n",
       "      <th></th>\n",
       "      <th></th>\n",
       "    </tr>\n",
       "  </thead>\n",
       "  <tbody>\n",
       "    <tr>\n",
       "      <th>Atlanta (GA)</th>\n",
       "      <td>1297</td>\n",
       "      <td>318957.41</td>\n",
       "      <td>8507</td>\n",
       "      <td>319432.46</td>\n",
       "      <td>17501</td>\n",
       "      <td>37058</td>\n",
       "      <td>1230</td>\n",
       "    </tr>\n",
       "    <tr>\n",
       "      <th>Austin (TX)</th>\n",
       "      <td>830</td>\n",
       "      <td>181571.57</td>\n",
       "      <td>5452</td>\n",
       "      <td>182136.48</td>\n",
       "      <td>10804</td>\n",
       "      <td>21813</td>\n",
       "      <td>772</td>\n",
       "    </tr>\n",
       "    <tr>\n",
       "      <th>Boston (MA)</th>\n",
       "      <td>1803</td>\n",
       "      <td>393052.53</td>\n",
       "      <td>11496</td>\n",
       "      <td>394961.30</td>\n",
       "      <td>24549</td>\n",
       "      <td>49811</td>\n",
       "      <td>1645</td>\n",
       "    </tr>\n",
       "    <tr>\n",
       "      <th>Dallas (TX)</th>\n",
       "      <td>1234</td>\n",
       "      <td>283835.71</td>\n",
       "      <td>7870</td>\n",
       "      <td>284598.19</td>\n",
       "      <td>16071</td>\n",
       "      <td>34163</td>\n",
       "      <td>1132</td>\n",
       "    </tr>\n",
       "    <tr>\n",
       "      <th>Los Angeles (CA)</th>\n",
       "      <td>2331</td>\n",
       "      <td>555033.47</td>\n",
       "      <td>15197</td>\n",
       "      <td>557713.16</td>\n",
       "      <td>31546</td>\n",
       "      <td>62080</td>\n",
       "      <td>2158</td>\n",
       "    </tr>\n",
       "    <tr>\n",
       "      <th>New York City (NY)</th>\n",
       "      <td>2190</td>\n",
       "      <td>507745.20</td>\n",
       "      <td>14020</td>\n",
       "      <td>510436.35</td>\n",
       "      <td>29239</td>\n",
       "      <td>58318</td>\n",
       "      <td>2015</td>\n",
       "    </tr>\n",
       "    <tr>\n",
       "      <th>Portland (ME)</th>\n",
       "      <td>191</td>\n",
       "      <td>41822.90</td>\n",
       "      <td>1147</td>\n",
       "      <td>41917.36</td>\n",
       "      <td>2631</td>\n",
       "      <td>5372</td>\n",
       "      <td>179</td>\n",
       "    </tr>\n",
       "    <tr>\n",
       "      <th>Portland (OR)</th>\n",
       "      <td>834</td>\n",
       "      <td>200650.22</td>\n",
       "      <td>5426</td>\n",
       "      <td>201192.01</td>\n",
       "      <td>10698</td>\n",
       "      <td>23622</td>\n",
       "      <td>768</td>\n",
       "    </tr>\n",
       "    <tr>\n",
       "      <th>San Francisco (CA)</th>\n",
       "      <td>3818</td>\n",
       "      <td>891986.46</td>\n",
       "      <td>25092</td>\n",
       "      <td>896779.93</td>\n",
       "      <td>51334</td>\n",
       "      <td>105801</td>\n",
       "      <td>3562</td>\n",
       "    </tr>\n",
       "    <tr>\n",
       "      <th>Seattle (WA)</th>\n",
       "      <td>1284</td>\n",
       "      <td>309482.40</td>\n",
       "      <td>8382</td>\n",
       "      <td>310312.27</td>\n",
       "      <td>17404</td>\n",
       "      <td>36089</td>\n",
       "      <td>1188</td>\n",
       "    </tr>\n",
       "  </tbody>\n",
       "</table>\n",
       "</div>"
      ],
      "text/plain": [
       "                    Quantity Ordered  Price Each  Months      Sales   Hour  \\\n",
       "City                                                                         \n",
       "Atlanta (GA)                    1297   318957.41    8507  319432.46  17501   \n",
       "Austin (TX)                      830   181571.57    5452  182136.48  10804   \n",
       "Boston (MA)                     1803   393052.53   11496  394961.30  24549   \n",
       "Dallas (TX)                     1234   283835.71    7870  284598.19  16071   \n",
       "Los Angeles (CA)                2331   555033.47   15197  557713.16  31546   \n",
       "New York City (NY)              2190   507745.20   14020  510436.35  29239   \n",
       "Portland (ME)                    191    41822.90    1147   41917.36   2631   \n",
       "Portland (OR)                    834   200650.22    5426  201192.01  10698   \n",
       "San Francisco (CA)              3818   891986.46   25092  896779.93  51334   \n",
       "Seattle (WA)                    1284   309482.40    8382  310312.27  17404   \n",
       "\n",
       "                    Minute  Count  \n",
       "City                               \n",
       "Atlanta (GA)         37058   1230  \n",
       "Austin (TX)          21813    772  \n",
       "Boston (MA)          49811   1645  \n",
       "Dallas (TX)          34163   1132  \n",
       "Los Angeles (CA)     62080   2158  \n",
       "New York City (NY)   58318   2015  \n",
       "Portland (ME)         5372    179  \n",
       "Portland (OR)        23622    768  \n",
       "San Francisco (CA)  105801   3562  \n",
       "Seattle (WA)         36089   1188  "
      ]
     },
     "execution_count": 48,
     "metadata": {},
     "output_type": "execute_result"
    }
   ],
   "source": [
    "city_sales = df.groupby(['City']).sum()\n",
    "city_sales"
   ]
  },
  {
   "cell_type": "code",
   "execution_count": 49,
   "id": "f34157f9",
   "metadata": {},
   "outputs": [],
   "source": [
    "ans_df3 = new_df.groupby(['Product']).sum()\n",
    "ans_df3 = ans_df3.sort_values(by='Quantity Ordered')"
   ]
  },
  {
   "cell_type": "code",
   "execution_count": 50,
   "id": "4f3bbab7",
   "metadata": {},
   "outputs": [],
   "source": [
    "filt = all_data['Quantity Ordered'] == 'Quantity Ordered'\n",
    "new_df = all_data.loc[-filt]"
   ]
  },
  {
   "cell_type": "code",
   "execution_count": 51,
   "id": "5b034334",
   "metadata": {},
   "outputs": [
    {
     "data": {
      "text/plain": [
       "(185950, 12)"
      ]
     },
     "execution_count": 51,
     "metadata": {},
     "output_type": "execute_result"
    }
   ],
   "source": [
    "new_df.shape"
   ]
  },
  {
   "cell_type": "code",
   "execution_count": 52,
   "id": "deadd7e0",
   "metadata": {},
   "outputs": [],
   "source": [
    "ans_df3 = new_df.groupby(['Product']).sum()\n",
    "ans_df3 = ans_df3.sort_values(by='Quantity Ordered')"
   ]
  },
  {
   "cell_type": "code",
   "execution_count": 53,
   "id": "24af2124",
   "metadata": {},
   "outputs": [
    {
     "data": {
      "text/html": [
       "<div>\n",
       "<style scoped>\n",
       "    .dataframe tbody tr th:only-of-type {\n",
       "        vertical-align: middle;\n",
       "    }\n",
       "\n",
       "    .dataframe tbody tr th {\n",
       "        vertical-align: top;\n",
       "    }\n",
       "\n",
       "    .dataframe thead th {\n",
       "        text-align: right;\n",
       "    }\n",
       "</style>\n",
       "<table border=\"1\" class=\"dataframe\">\n",
       "  <thead>\n",
       "    <tr style=\"text-align: right;\">\n",
       "      <th></th>\n",
       "      <th>Quantity Ordered</th>\n",
       "      <th>Price Each</th>\n",
       "      <th>Months</th>\n",
       "      <th>Sales</th>\n",
       "      <th>Hour</th>\n",
       "      <th>Minute</th>\n",
       "      <th>Count</th>\n",
       "    </tr>\n",
       "    <tr>\n",
       "      <th>Product</th>\n",
       "      <th></th>\n",
       "      <th></th>\n",
       "      <th></th>\n",
       "      <th></th>\n",
       "      <th></th>\n",
       "      <th></th>\n",
       "      <th></th>\n",
       "    </tr>\n",
       "  </thead>\n",
       "  <tbody>\n",
       "    <tr>\n",
       "      <th>LG Dryer</th>\n",
       "      <td>646</td>\n",
       "      <td>387600.00</td>\n",
       "      <td>4383</td>\n",
       "      <td>387600.00</td>\n",
       "      <td>9326</td>\n",
       "      <td>19043</td>\n",
       "      <td>646</td>\n",
       "    </tr>\n",
       "    <tr>\n",
       "      <th>LG Washing Machine</th>\n",
       "      <td>666</td>\n",
       "      <td>399600.00</td>\n",
       "      <td>4523</td>\n",
       "      <td>399600.00</td>\n",
       "      <td>9785</td>\n",
       "      <td>19462</td>\n",
       "      <td>666</td>\n",
       "    </tr>\n",
       "    <tr>\n",
       "      <th>Vareebadd Phone</th>\n",
       "      <td>2068</td>\n",
       "      <td>826000.00</td>\n",
       "      <td>14309</td>\n",
       "      <td>827200.00</td>\n",
       "      <td>29472</td>\n",
       "      <td>61835</td>\n",
       "      <td>2065</td>\n",
       "    </tr>\n",
       "    <tr>\n",
       "      <th>20in Monitor</th>\n",
       "      <td>4129</td>\n",
       "      <td>451068.99</td>\n",
       "      <td>29336</td>\n",
       "      <td>454148.71</td>\n",
       "      <td>58764</td>\n",
       "      <td>122252</td>\n",
       "      <td>4101</td>\n",
       "    </tr>\n",
       "    <tr>\n",
       "      <th>ThinkPad Laptop</th>\n",
       "      <td>4130</td>\n",
       "      <td>4127958.72</td>\n",
       "      <td>28950</td>\n",
       "      <td>4129958.70</td>\n",
       "      <td>59746</td>\n",
       "      <td>121508</td>\n",
       "      <td>4128</td>\n",
       "    </tr>\n",
       "    <tr>\n",
       "      <th>Macbook Pro Laptop</th>\n",
       "      <td>4728</td>\n",
       "      <td>8030800.00</td>\n",
       "      <td>33548</td>\n",
       "      <td>8037600.00</td>\n",
       "      <td>68261</td>\n",
       "      <td>137574</td>\n",
       "      <td>4724</td>\n",
       "    </tr>\n",
       "    <tr>\n",
       "      <th>Flatscreen TV</th>\n",
       "      <td>4819</td>\n",
       "      <td>1440000.00</td>\n",
       "      <td>34224</td>\n",
       "      <td>1445700.00</td>\n",
       "      <td>68815</td>\n",
       "      <td>142789</td>\n",
       "      <td>4800</td>\n",
       "    </tr>\n",
       "    <tr>\n",
       "      <th>Google Phone</th>\n",
       "      <td>5532</td>\n",
       "      <td>3315000.00</td>\n",
       "      <td>38305</td>\n",
       "      <td>3319200.00</td>\n",
       "      <td>79479</td>\n",
       "      <td>162773</td>\n",
       "      <td>5525</td>\n",
       "    </tr>\n",
       "    <tr>\n",
       "      <th>34in Ultrawide Monitor</th>\n",
       "      <td>6199</td>\n",
       "      <td>2348718.19</td>\n",
       "      <td>43304</td>\n",
       "      <td>2355558.01</td>\n",
       "      <td>89076</td>\n",
       "      <td>183480</td>\n",
       "      <td>6181</td>\n",
       "    </tr>\n",
       "    <tr>\n",
       "      <th>27in 4K Gaming Monitor</th>\n",
       "      <td>6244</td>\n",
       "      <td>2429637.70</td>\n",
       "      <td>44440</td>\n",
       "      <td>2435097.56</td>\n",
       "      <td>90916</td>\n",
       "      <td>184331</td>\n",
       "      <td>6230</td>\n",
       "    </tr>\n",
       "    <tr>\n",
       "      <th>iPhone</th>\n",
       "      <td>6849</td>\n",
       "      <td>4789400.00</td>\n",
       "      <td>47941</td>\n",
       "      <td>4794300.00</td>\n",
       "      <td>98657</td>\n",
       "      <td>201688</td>\n",
       "      <td>6842</td>\n",
       "    </tr>\n",
       "    <tr>\n",
       "      <th>27in FHD Monitor</th>\n",
       "      <td>7550</td>\n",
       "      <td>1125974.93</td>\n",
       "      <td>52558</td>\n",
       "      <td>1132424.50</td>\n",
       "      <td>107540</td>\n",
       "      <td>219948</td>\n",
       "      <td>7507</td>\n",
       "    </tr>\n",
       "    <tr>\n",
       "      <th>Bose SoundSport Headphones</th>\n",
       "      <td>13457</td>\n",
       "      <td>1332366.75</td>\n",
       "      <td>94113</td>\n",
       "      <td>1345565.43</td>\n",
       "      <td>192445</td>\n",
       "      <td>392603</td>\n",
       "      <td>13325</td>\n",
       "    </tr>\n",
       "    <tr>\n",
       "      <th>Apple Airpods Headphones</th>\n",
       "      <td>15661</td>\n",
       "      <td>2332350.00</td>\n",
       "      <td>109477</td>\n",
       "      <td>2349150.00</td>\n",
       "      <td>223304</td>\n",
       "      <td>455570</td>\n",
       "      <td>15549</td>\n",
       "    </tr>\n",
       "    <tr>\n",
       "      <th>Wired Headphones</th>\n",
       "      <td>20557</td>\n",
       "      <td>226395.18</td>\n",
       "      <td>133397</td>\n",
       "      <td>246478.43</td>\n",
       "      <td>271720</td>\n",
       "      <td>554023</td>\n",
       "      <td>18882</td>\n",
       "    </tr>\n",
       "    <tr>\n",
       "      <th>Lightning Charging Cable</th>\n",
       "      <td>23217</td>\n",
       "      <td>323787.10</td>\n",
       "      <td>153092</td>\n",
       "      <td>347094.15</td>\n",
       "      <td>312529</td>\n",
       "      <td>634442</td>\n",
       "      <td>21658</td>\n",
       "    </tr>\n",
       "    <tr>\n",
       "      <th>USB-C Charging Cable</th>\n",
       "      <td>23975</td>\n",
       "      <td>261740.85</td>\n",
       "      <td>154819</td>\n",
       "      <td>286501.25</td>\n",
       "      <td>314645</td>\n",
       "      <td>647586</td>\n",
       "      <td>21903</td>\n",
       "    </tr>\n",
       "    <tr>\n",
       "      <th>AA Batteries (4-pack)</th>\n",
       "      <td>27635</td>\n",
       "      <td>79015.68</td>\n",
       "      <td>145558</td>\n",
       "      <td>106118.40</td>\n",
       "      <td>298342</td>\n",
       "      <td>609039</td>\n",
       "      <td>20577</td>\n",
       "    </tr>\n",
       "    <tr>\n",
       "      <th>AAA Batteries (4-pack)</th>\n",
       "      <td>31017</td>\n",
       "      <td>61716.59</td>\n",
       "      <td>146370</td>\n",
       "      <td>92740.83</td>\n",
       "      <td>297332</td>\n",
       "      <td>612113</td>\n",
       "      <td>20641</td>\n",
       "    </tr>\n",
       "  </tbody>\n",
       "</table>\n",
       "</div>"
      ],
      "text/plain": [
       "                            Quantity Ordered  Price Each  Months       Sales  \\\n",
       "Product                                                                        \n",
       "LG Dryer                                 646   387600.00    4383   387600.00   \n",
       "LG Washing Machine                       666   399600.00    4523   399600.00   \n",
       "Vareebadd Phone                         2068   826000.00   14309   827200.00   \n",
       "20in Monitor                            4129   451068.99   29336   454148.71   \n",
       "ThinkPad Laptop                         4130  4127958.72   28950  4129958.70   \n",
       "Macbook Pro Laptop                      4728  8030800.00   33548  8037600.00   \n",
       "Flatscreen TV                           4819  1440000.00   34224  1445700.00   \n",
       "Google Phone                            5532  3315000.00   38305  3319200.00   \n",
       "34in Ultrawide Monitor                  6199  2348718.19   43304  2355558.01   \n",
       "27in 4K Gaming Monitor                  6244  2429637.70   44440  2435097.56   \n",
       "iPhone                                  6849  4789400.00   47941  4794300.00   \n",
       "27in FHD Monitor                        7550  1125974.93   52558  1132424.50   \n",
       "Bose SoundSport Headphones             13457  1332366.75   94113  1345565.43   \n",
       "Apple Airpods Headphones               15661  2332350.00  109477  2349150.00   \n",
       "Wired Headphones                       20557   226395.18  133397   246478.43   \n",
       "Lightning Charging Cable               23217   323787.10  153092   347094.15   \n",
       "USB-C Charging Cable                   23975   261740.85  154819   286501.25   \n",
       "AA Batteries (4-pack)                  27635    79015.68  145558   106118.40   \n",
       "AAA Batteries (4-pack)                 31017    61716.59  146370    92740.83   \n",
       "\n",
       "                              Hour  Minute  Count  \n",
       "Product                                            \n",
       "LG Dryer                      9326   19043    646  \n",
       "LG Washing Machine            9785   19462    666  \n",
       "Vareebadd Phone              29472   61835   2065  \n",
       "20in Monitor                 58764  122252   4101  \n",
       "ThinkPad Laptop              59746  121508   4128  \n",
       "Macbook Pro Laptop           68261  137574   4724  \n",
       "Flatscreen TV                68815  142789   4800  \n",
       "Google Phone                 79479  162773   5525  \n",
       "34in Ultrawide Monitor       89076  183480   6181  \n",
       "27in 4K Gaming Monitor       90916  184331   6230  \n",
       "iPhone                       98657  201688   6842  \n",
       "27in FHD Monitor            107540  219948   7507  \n",
       "Bose SoundSport Headphones  192445  392603  13325  \n",
       "Apple Airpods Headphones    223304  455570  15549  \n",
       "Wired Headphones            271720  554023  18882  \n",
       "Lightning Charging Cable    312529  634442  21658  \n",
       "USB-C Charging Cable        314645  647586  21903  \n",
       "AA Batteries (4-pack)       298342  609039  20577  \n",
       "AAA Batteries (4-pack)      297332  612113  20641  "
      ]
     },
     "execution_count": 53,
     "metadata": {},
     "output_type": "execute_result"
    }
   ],
   "source": [
    "ans_df3"
   ]
  },
  {
   "cell_type": "code",
   "execution_count": 54,
   "id": "63ae8ca8",
   "metadata": {},
   "outputs": [],
   "source": [
    "city_grp = new_df.groupby(['City'])"
   ]
  },
  {
   "cell_type": "code",
   "execution_count": 55,
   "id": "5439855a",
   "metadata": {},
   "outputs": [
    {
     "data": {
      "text/plain": [
       "City\n",
       "Atlanta (GA)          2.795499e+06\n",
       "Austin (TX)           1.819582e+06\n",
       "Boston (MA)           3.661642e+06\n",
       "Dallas (TX)           2.767975e+06\n",
       "Los Angeles (CA)      5.452571e+06\n",
       "New York City (NY)    4.664317e+06\n",
       "Portland (ME)         4.497583e+05\n",
       "Portland (OR)         1.870732e+06\n",
       "San Francisco (CA)    8.262204e+06\n",
       "Seattle (WA)          2.747755e+06\n",
       "Name: Units, dtype: float64"
      ]
     },
     "execution_count": 55,
     "metadata": {},
     "output_type": "execute_result"
    }
   ],
   "source": [
    "ans_df2 = city_grp['Sales'].sum()\n",
    "ans_df2.rename('Units')"
   ]
  },
  {
   "cell_type": "code",
   "execution_count": 57,
   "id": "236eae1e",
   "metadata": {},
   "outputs": [
    {
     "data": {
      "text/plain": [
       "City\n",
       "San Francisco (CA)    8.262204e+06\n",
       "Los Angeles (CA)      5.452571e+06\n",
       "New York City (NY)    4.664317e+06\n",
       "Boston (MA)           3.661642e+06\n",
       "Atlanta (GA)          2.795499e+06\n",
       "Dallas (TX)           2.767975e+06\n",
       "Seattle (WA)          2.747755e+06\n",
       "Portland (OR)         1.870732e+06\n",
       "Austin (TX)           1.819582e+06\n",
       "Portland (ME)         4.497583e+05\n",
       "Name: Sales, dtype: float64"
      ]
     },
     "execution_count": 57,
     "metadata": {},
     "output_type": "execute_result"
    }
   ],
   "source": [
    "data_q3 = all_data[['City','Sales']]\n",
    "data_q3.groupby(['City']).sum().sort_values(['Sales'],ascending=False)['Sales']"
   ]
  },
  {
   "cell_type": "code",
   "execution_count": 58,
   "id": "fbd2053e",
   "metadata": {},
   "outputs": [
    {
     "ename": "NameError",
     "evalue": "name 'sns' is not defined",
     "output_type": "error",
     "traceback": [
      "\u001b[1;31m---------------------------------------------------------------------------\u001b[0m",
      "\u001b[1;31mNameError\u001b[0m                                 Traceback (most recent call last)",
      "\u001b[1;32m<ipython-input-58-19b448a7bf93>\u001b[0m in \u001b[0;36m<module>\u001b[1;34m\u001b[0m\n\u001b[0;32m      1\u001b[0m \u001b[0mplot_q3\u001b[0m \u001b[1;33m=\u001b[0m \u001b[0mdata_q3\u001b[0m\u001b[1;33m.\u001b[0m\u001b[0mgroupby\u001b[0m\u001b[1;33m(\u001b[0m\u001b[1;33m[\u001b[0m\u001b[1;34m'City'\u001b[0m\u001b[1;33m]\u001b[0m\u001b[1;33m)\u001b[0m\u001b[1;33m.\u001b[0m\u001b[0msum\u001b[0m\u001b[1;33m(\u001b[0m\u001b[1;33m)\u001b[0m\u001b[1;33m.\u001b[0m\u001b[0msort_values\u001b[0m\u001b[1;33m(\u001b[0m\u001b[1;33m[\u001b[0m\u001b[1;34m'Sales'\u001b[0m\u001b[1;33m]\u001b[0m\u001b[1;33m,\u001b[0m\u001b[0mascending\u001b[0m\u001b[1;33m=\u001b[0m\u001b[1;32mFalse\u001b[0m\u001b[1;33m)\u001b[0m\u001b[1;33m[\u001b[0m\u001b[1;34m'Sales'\u001b[0m\u001b[1;33m]\u001b[0m\u001b[1;33m\u001b[0m\u001b[1;33m\u001b[0m\u001b[0m\n\u001b[0;32m      2\u001b[0m \u001b[1;33m\u001b[0m\u001b[0m\n\u001b[1;32m----> 3\u001b[1;33m \u001b[0mplt_1\u001b[0m \u001b[1;33m=\u001b[0m \u001b[0msns\u001b[0m\u001b[1;33m.\u001b[0m\u001b[0mbarplot\u001b[0m\u001b[1;33m(\u001b[0m\u001b[0mx\u001b[0m\u001b[1;33m=\u001b[0m\u001b[0mplot_q3\u001b[0m\u001b[1;33m.\u001b[0m\u001b[0mindex\u001b[0m\u001b[1;33m,\u001b[0m \u001b[0my\u001b[0m\u001b[1;33m=\u001b[0m\u001b[0mplot_q3\u001b[0m\u001b[1;33m)\u001b[0m\u001b[1;33m\u001b[0m\u001b[1;33m\u001b[0m\u001b[0m\n\u001b[0m\u001b[0;32m      4\u001b[0m \u001b[1;33m\u001b[0m\u001b[0m\n\u001b[0;32m      5\u001b[0m \u001b[1;32mfor\u001b[0m \u001b[0mitem\u001b[0m \u001b[1;32min\u001b[0m \u001b[0mplt_1\u001b[0m\u001b[1;33m.\u001b[0m\u001b[0mget_xticklabels\u001b[0m\u001b[1;33m(\u001b[0m\u001b[1;33m)\u001b[0m\u001b[1;33m:\u001b[0m\u001b[1;33m\u001b[0m\u001b[1;33m\u001b[0m\u001b[0m\n",
      "\u001b[1;31mNameError\u001b[0m: name 'sns' is not defined"
     ]
    }
   ],
   "source": [
    "plot_q3 = data_q3.groupby(['City']).sum().sort_values(['Sales'],ascending=False)['Sales']\n",
    "\n",
    "plt_1 = sns.barplot(x=plot_q3.index, y=plot_q3)\n",
    "\n",
    "for item in plt_1.get_xticklabels():\n",
    "    item.set_rotation(90)"
   ]
  },
  {
   "cell_type": "code",
   "execution_count": 59,
   "id": "ed0ae89b",
   "metadata": {},
   "outputs": [],
   "source": [
    "import seaborn as sns"
   ]
  },
  {
   "cell_type": "code",
   "execution_count": 60,
   "id": "d63c519e",
   "metadata": {},
   "outputs": [
    {
     "data": {
      "image/png": "[encoded data removed]",
      "text/plain": [
       "<Figure size 432x288 with 1 Axes>"
      ]
     },
     "metadata": {
      "needs_background": "light"
     },
     "output_type": "display_data"
    }
   ],
   "source": [
    "#Which city sold the most product?\n",
    "plot_q3 = data_q3.groupby(['City']).sum().sort_values(['Sales'],ascending=False)['Sales']\n",
    "\n",
    "plt_1 = sns.barplot(x=plot_q3.index, y=plot_q3)\n",
    "\n",
    "for item in plt_1.get_xticklabels():\n",
    "    item.set_rotation(90)"
   ]
  },
  {
   "cell_type": "code",
   "execution_count": null,
   "id": "be50af9c",
   "metadata": {},
   "outputs": [],
   "source": []
  }
 ],
 "metadata": {
  "kernelspec": {
   "display_name": "Python 3 (ipykernel)",
   "language": "python",
   "name": "python3"
  },
  "language_info": {
   "codemirror_mode": {
    "name": "ipython",
    "version": 3
   },
   "file_extension": ".py",
   "mimetype": "text/x-python",
   "name": "python",
   "nbconvert_exporter": "python",
   "pygments_lexer": "ipython3",
   "version": "3.9.13"
  }
 },
 "nbformat": 4,
 "nbformat_minor": 5
}
